{
 "cells": [
  {
   "cell_type": "code",
   "execution_count": 21,
   "metadata": {
    "collapsed": true
   },
   "outputs": [],
   "source": [
    "import pandas as pd\n",
    "from math import cos, pi, atan, floor, sqrt"
   ]
  },
  {
   "cell_type": "markdown",
   "source": [
    "# Load/Set base data"
   ],
   "metadata": {
    "collapsed": false
   }
  },
  {
   "cell_type": "code",
   "execution_count": 22,
   "outputs": [],
   "source": [
    "# TODO: Link the decans file from drive or somehow attach it. Probably host on github and link that https://towardsdatascience.com/3-ways-to-load-csv-files-into-colab-7c14fcbdcb92\n",
    "# url = 'copied_raw_GH_link'\n",
    "# df1 = pd.read_csv(url)\n",
    "df = pd.read_csv('decans.csv')\n",
    "\n",
    "# TODO: Create spell list as CSV and load that as well\n",
    "\n",
    "zodiac_order = {'Aries': 1, 'Taurus': 2, 'Gemini': 3, 'Cancer': 4, 'Leo': 5, 'Virgo': 6, 'Libra': 7, 'Scorpio': 8,\n",
    "                'Sagittarius': 9, 'Capricorn': 10, 'Aquarius': 11, 'Pisces': 12}"
   ],
   "metadata": {
    "collapsed": false
   }
  },
  {
   "cell_type": "code",
   "execution_count": 23,
   "outputs": [
    {
     "data": {
      "text/plain": "            Decan                    Keyword Zodiacal Position   Planet  \\\n0            Ruax                       Mind         Aries 1st     Mars   \n1       Barsafael           What lies behind         Aries 2nd      Sun   \n2       Arôtosael        Making and Breaking         Aries 3rd  Jupiter   \n3            Sahu                      Wilds        Taurus 1st    Venus   \n4           Iudal                       Gate        Taurus 2nd  Mercury   \n5           Ouare                 Technology        Taurus 3rd   Saturn   \n6        Sphandôr                  Knowledge        Gemini 1st  Mercury   \n7          Belbel                       Pain        Gemini 2nd    Venus   \n8         Kurtaêl                 Necromancy        Gemini 3rd   Saturn   \n9         Methiax      Illusion and Creation        Cancer 1st     Moon   \n10   Charchnoumis                     Animal        Cancer 2nd     Mars   \n11   Saphathoraél                      Water        Cancer 3rd    Venus   \n12        Phoubêl         Light and Darkness           Leo 1st      Sun   \n13       Kumeatêl                     Hidden           Leo 2nd  Jupiter   \n14         Roêlêd     Protection and Warning           Leo 3rd     Mars   \n15          Atrax                       Food         Virgo 1st  Mercury   \n16       Ieropaêl                      Earth         Virgo 2nd   Saturn   \n17      Buldumêch                     Wealth         Virgo 3rd    Venus   \n18          Naôth  Communication and Empathy         Libra 1st    Venus   \n19        Marderô                 Resistance         Libra 2nd   Saturn   \n20          Alath                     Stasis         Libra 3rd  Mercury   \n21       Tepsisem                     Beauty       Scorpio 1st     Mars   \n22       Nefthada                   Pleasure       Scorpio 2nd  Jupiter   \n23          Akton                 Corruption       Scorpio 3rd     Moon   \n24       Anatreth                   Movement   Sagittarius 1st  Jupiter   \n25         Eneuth                       Fire   Sagittarius 2nd     Mars   \n26      Axiôphêth               Togetherness   Sagittarius 3rd      Sun   \n27         Harpax                      Plant     Capricorn 1st   Saturn   \n28        Anostêr              Impossibility     Capricorn 2nd    Venus   \n29     Alleborith                       Meta     Capricorn 3rd  Mercury   \n30  Hephesimereth                       Void      Aquarius 1st   Saturn   \n31           Isrö                        Air      Aquarius 2nd  Jupiter   \n32      Agchoniôn                      Sound      Aquarius 3rd    Venus   \n33        Akhouiy                    Fortune        Pisces 1st  Jupiter   \n34      Phthenoth                    Healing        Pisces 2nd     Moon   \n35      Bianakith                       Body        Pisces 3rd     Mars   \n\n     Sephirah  Page                                          Influence  \\\n0     Chokmah    70  Will, perception, sanity, drunkenness, hotter ...   \n1       Binah    62  Hidden truth, subconscious mind, primal unconf...   \n2      Chesed    61  The cycle of making and destroying in all its ...   \n3     Geburah    70  Concepts and activities such as archery, hunti...   \n4   Tiphareth    67  Boundaries, roads, portals, rivers, bridges, a...   \n5     Netzach    69  Constructs, machines, alloys, and vehicles. So...   \n6         Hod    71  The sensorium, intellect, passive knowledge, i...   \n7       Yesod    63  Pain, torment, sharpness, shadow, shock, loss,...   \n8     Malkuth    68        Death, fear, decay and disease, the undead.   \n9     Chokmah    68  True creation, form, shapes reality and dreams...   \n10      Binah    63  Animals, bestial thoughts and instincts, shape...   \n11     Chesed    71  Water, liquids and their conceptual counterpar...   \n12    Geburah    69  Light and darkness, one requiring the other. V...   \n13  Tiphareth    67  The ace up the sleeve, secrets, murmurs, aspec...   \n14    Netzach    70  Strong walls, thorns, antibiotics, defense, gu...   \n15    Malkuth    62  Nourishment, inner strength through sustenance...   \n16      Yesod    67  Earth, soil, rock, the very concept of physica...   \n17    Malkuth    63            Wealth, treasure, gold, finance, greed.   \n18    Chokmah    68  Communication, language, imagery, symbolism, a...   \n19      Binah    68  Rebellion, anger against injustice, violence f...   \n20     Chesed    60  Satiety, comfort, rest, boredom, stagnation, d...   \n21    Geburah    71  Beauty and its loss, transience and impermanen...   \n22  Tiphareth    69  Pleasure and delight, thrills both physical an...   \n23    Netzach    60  Corruption, debauchery, sin, both the joys and...   \n24        Hod    61  Movement, evolution, progress, and speed (fast...   \n25      Yesod    63  Fire and it's metaphorical equivalents: inspir...   \n26    Malkuth    62  Gravity, weight, mass, forces holding things i...   \n27    Chokmah    67  Plants, all things green and growing, both har...   \n28      Binah    61  That which cannot be done, cannot be known, th...   \n29     Chesed    61  Magic at its purest, isolated, active magic, m...   \n30    Geburah    67              Nothingness, defeat, emptiness, loss.   \n31  Tiphareth    67  Air, a breeze or a storm,  and it's metaphoric...   \n32    Netzach    60          Noise, music, hearing, meaningless sound.   \n33        Hod    60  Indolence, drift, ease, luck, dumb luck, going...   \n34      Yesod    69  Cleansing, restoration, and healing both physi...   \n35    Malkuth    63  The human body and mind, the template of human...   \n\n                                               Places  \\\n0   Television studios or showrooms, hypnosis clin...   \n1   Deep beneath the ocean or in hidden caves, cit...   \n2   Decisive battlefields, particle accelerators, ...   \n3   Mountainsides, the walls of Mycenae and Machu ...   \n4   Bridges, crossroads, doorways (especially post...   \n5   Garages, metallurgical laboratories, inside mo...   \n6   Computer rooms, hexagonal spaces, paintings or...   \n7   Torture chambers, death camps, deep in the rai...   \n8   Graveyards, terminal wards of hospitals, ruine...   \n9   Artist’s studios, movie theaters and movie set...   \n10  Zoos, slaughterhouses, nature preserves, fores...   \n11  Oceans, lakes, ships, reservoirs, wells and oa...   \n12  Tropical beaches, outdoors at sunrise or sunse...   \n13  Secret laboratories or military bases, hidden ...   \n14  Anywhere under surveillance or an electric-eye...   \n15  Supermarkets, bazaars, farmland, compost heaps...   \n16  Mountain caves, volcanoes, upthrust crags, gra...   \n17  Banks, stock market floors, gold mines, custom...   \n18  Radio stations, printers, shared telepathic ex...   \n19  Revolutionary battlefields or massacres, polic...   \n20  Old-age homes, cold deserts, still tarns, ghos...   \n21  Museums, art auction houses, badly maintained ...   \n22  Almost nowhere, save for perfect moments in ti...   \n23  Alcoholic wards, whorehouses, crack dens, cert...   \n24  Tornadoes, airports, speedways or freeways, li...   \n25  Bonfires, firestorms, tropical or subtropical ...   \n26  Underneath tons of rock, sun-baked desert flat...   \n27  Sacred groves, rainforests, algal pools, weed-...   \n28  Some peculiar rings of stone in New England, a...   \n29  Magical laboratories, pentacles, places of pow...   \n30  Open abandoned pits, former cemeteries with th...   \n31  Windstorms, steppes, inside or atop clouds, on...   \n32  Sonar stations, opera and concert houses, wind...   \n33  Casinos, resort hotels, some taverns, much of ...   \n34  Hospitals, the island of Cos, spring meadows a...   \n35  Crowded cities, human-scale statuary, portrait...   \n\n                                            Materials  \\\n0   Cathode-ray tubes, spirals, poppies, down- war...   \n1   Ambergris, petroleum, white noise, artesian wa...   \n2   Ram’s horn (and anything else in a Fibonacci s...   \n3   Basalt, sequoia wood, subsonics, arrowheads, s...   \n4   Keys, two-headed coins, juniper, alexandrites,...   \n5   Gears and clockwork, plastic, microchips, bras...   \n6   Agates and cat’s eyes, musk, hexagons, fennel,...   \n7   Funeral crepe, surgical steel, rust, ammonia, ...   \n8   Rowan, cypress, myrrh, contaminated syringes, ...   \n9   Pyrites, zircons, flashbulbs, eggs, pomegranat...   \n10  Fresh animals’ blood or skin, bloodstones, fre...   \n11  Fish, the blood of drowned men, aquamarines an...   \n12  Heliotropes and other tropical flowers, flash-...   \n13  Artifacts with secrets, the number 13, walnuts...   \n14  Owl or raven feathers, oxhide, “M” shapes, dra...   \n15  Bread, salt, woman’s hair, storax, saliva, fer...   \n16  Quartz, talc, slate, oak, lichen, worms, narci...   \n17  Money, anything expensive and hoarded, jackdaw...   \n18  Vervain, bay leaves, “V” shapes, stringed inst...   \n19  Hammers, sickles, human blood, pepper, tear ga...   \n20  Tortoiseshell, square and cuboid shapes, arsen...   \n21  Works of art, rouge, acid rain, faded photogra...   \n22  Champagne, star sapphires, silk or satin fab- ...   \n23  Vomit, maggots, vitriol, cocaine, wormwood, ve...   \n24  Arrows, bullets, fulgurites, cobra venom, hawk...   \n25  Obsidian, asbestos, sulfur, fire opals, sodium...   \n26  Lead chains, iron weights, ballast from a ship...   \n27  Green jade, holly, cedar, woodwind music, aman...   \n28  The noise of a cat’s passage, books never writ...   \n29  Mandrake root, orichalcum, azoth, pyramid shap...   \n30  Dead batteries, dust from an abandoned house, ...   \n31  Eagle feathers, chalcedony, galbanum, white or...   \n32  Bat’s ears, dolphin blood, recording tape, sea...   \n33  Four-leaf clovers, rabbits’ feet, upright hors...   \n34  Balm, pure water, apples, watered wine, chicke...   \n35  Lungwort, liverwort, elm, river clay, human bl...   \n\n                                                Spell  decan_position  \n0                                                 NaN               0  \n1                                                 NaN               1  \n2                           Dust to Dust (Unraveling)               2  \n3                             Find the Path (Knowing)               3  \n4                               Teleport (Patterning)               4  \n5                                                 NaN               5  \n6                           Something for my research               6  \n7                                         (Shielding)               7  \n8                                                 NaN               8  \n9                                                 NaN               9  \n10                           Hear me, my Kin (Ruling)              10  \n11                                                NaN              11  \n12        Light (Compelling) or Darksight (Unveiling)              12  \n13                                                NaN              13  \n14                                                NaN              14  \n15                         Wondrous Fare (Patterning)              15  \n16                               Shape Stone (Ruling)              16  \n17                       All that Glitters  (Knowing)              17  \n18                                 Tongues (Knowing?)              18  \n19                      Incite (Compelling or Ruling)              19  \n20                       Rest for the Wicked (Ruling)              20  \n21                                                NaN              21  \n22                                     Eternal Moment              22  \n23  Confess thy Sins (Knowing) OR Forgiveness (Shi...              23  \n24                    Seven-League Steps (Perfecting)              24  \n25                                 Fireball (Fraying)              25  \n26                     Shake off the Chains (Fraying)              26  \n27                           Wild Growth (Perfecting)              27  \n28                                                NaN              28  \n29                         Flows Revealed (Unveiling)              29  \n30                                                NaN              30  \n31                                                NaN              31  \n32                                                NaN              32  \n33                             Fortunate Son (Ruling)              33  \n34                   Greater Restoration (Patterning)              34  \n35                               Goliath (Perfecting)              35  ",
      "text/html": "<div>\n<style scoped>\n    .dataframe tbody tr th:only-of-type {\n        vertical-align: middle;\n    }\n\n    .dataframe tbody tr th {\n        vertical-align: top;\n    }\n\n    .dataframe thead th {\n        text-align: right;\n    }\n</style>\n<table border=\"1\" class=\"dataframe\">\n  <thead>\n    <tr style=\"text-align: right;\">\n      <th></th>\n      <th>Decan</th>\n      <th>Keyword</th>\n      <th>Zodiacal Position</th>\n      <th>Planet</th>\n      <th>Sephirah</th>\n      <th>Page</th>\n      <th>Influence</th>\n      <th>Places</th>\n      <th>Materials</th>\n      <th>Spell</th>\n      <th>decan_position</th>\n    </tr>\n  </thead>\n  <tbody>\n    <tr>\n      <th>0</th>\n      <td>Ruax</td>\n      <td>Mind</td>\n      <td>Aries 1st</td>\n      <td>Mars</td>\n      <td>Chokmah</td>\n      <td>70</td>\n      <td>Will, perception, sanity, drunkenness, hotter ...</td>\n      <td>Television studios or showrooms, hypnosis clin...</td>\n      <td>Cathode-ray tubes, spirals, poppies, down- war...</td>\n      <td>NaN</td>\n      <td>0</td>\n    </tr>\n    <tr>\n      <th>1</th>\n      <td>Barsafael</td>\n      <td>What lies behind</td>\n      <td>Aries 2nd</td>\n      <td>Sun</td>\n      <td>Binah</td>\n      <td>62</td>\n      <td>Hidden truth, subconscious mind, primal unconf...</td>\n      <td>Deep beneath the ocean or in hidden caves, cit...</td>\n      <td>Ambergris, petroleum, white noise, artesian wa...</td>\n      <td>NaN</td>\n      <td>1</td>\n    </tr>\n    <tr>\n      <th>2</th>\n      <td>Arôtosael</td>\n      <td>Making and Breaking</td>\n      <td>Aries 3rd</td>\n      <td>Jupiter</td>\n      <td>Chesed</td>\n      <td>61</td>\n      <td>The cycle of making and destroying in all its ...</td>\n      <td>Decisive battlefields, particle accelerators, ...</td>\n      <td>Ram’s horn (and anything else in a Fibonacci s...</td>\n      <td>Dust to Dust (Unraveling)</td>\n      <td>2</td>\n    </tr>\n    <tr>\n      <th>3</th>\n      <td>Sahu</td>\n      <td>Wilds</td>\n      <td>Taurus 1st</td>\n      <td>Venus</td>\n      <td>Geburah</td>\n      <td>70</td>\n      <td>Concepts and activities such as archery, hunti...</td>\n      <td>Mountainsides, the walls of Mycenae and Machu ...</td>\n      <td>Basalt, sequoia wood, subsonics, arrowheads, s...</td>\n      <td>Find the Path (Knowing)</td>\n      <td>3</td>\n    </tr>\n    <tr>\n      <th>4</th>\n      <td>Iudal</td>\n      <td>Gate</td>\n      <td>Taurus 2nd</td>\n      <td>Mercury</td>\n      <td>Tiphareth</td>\n      <td>67</td>\n      <td>Boundaries, roads, portals, rivers, bridges, a...</td>\n      <td>Bridges, crossroads, doorways (especially post...</td>\n      <td>Keys, two-headed coins, juniper, alexandrites,...</td>\n      <td>Teleport (Patterning)</td>\n      <td>4</td>\n    </tr>\n    <tr>\n      <th>5</th>\n      <td>Ouare</td>\n      <td>Technology</td>\n      <td>Taurus 3rd</td>\n      <td>Saturn</td>\n      <td>Netzach</td>\n      <td>69</td>\n      <td>Constructs, machines, alloys, and vehicles. So...</td>\n      <td>Garages, metallurgical laboratories, inside mo...</td>\n      <td>Gears and clockwork, plastic, microchips, bras...</td>\n      <td>NaN</td>\n      <td>5</td>\n    </tr>\n    <tr>\n      <th>6</th>\n      <td>Sphandôr</td>\n      <td>Knowledge</td>\n      <td>Gemini 1st</td>\n      <td>Mercury</td>\n      <td>Hod</td>\n      <td>71</td>\n      <td>The sensorium, intellect, passive knowledge, i...</td>\n      <td>Computer rooms, hexagonal spaces, paintings or...</td>\n      <td>Agates and cat’s eyes, musk, hexagons, fennel,...</td>\n      <td>Something for my research</td>\n      <td>6</td>\n    </tr>\n    <tr>\n      <th>7</th>\n      <td>Belbel</td>\n      <td>Pain</td>\n      <td>Gemini 2nd</td>\n      <td>Venus</td>\n      <td>Yesod</td>\n      <td>63</td>\n      <td>Pain, torment, sharpness, shadow, shock, loss,...</td>\n      <td>Torture chambers, death camps, deep in the rai...</td>\n      <td>Funeral crepe, surgical steel, rust, ammonia, ...</td>\n      <td>(Shielding)</td>\n      <td>7</td>\n    </tr>\n    <tr>\n      <th>8</th>\n      <td>Kurtaêl</td>\n      <td>Necromancy</td>\n      <td>Gemini 3rd</td>\n      <td>Saturn</td>\n      <td>Malkuth</td>\n      <td>68</td>\n      <td>Death, fear, decay and disease, the undead.</td>\n      <td>Graveyards, terminal wards of hospitals, ruine...</td>\n      <td>Rowan, cypress, myrrh, contaminated syringes, ...</td>\n      <td>NaN</td>\n      <td>8</td>\n    </tr>\n    <tr>\n      <th>9</th>\n      <td>Methiax</td>\n      <td>Illusion and Creation</td>\n      <td>Cancer 1st</td>\n      <td>Moon</td>\n      <td>Chokmah</td>\n      <td>68</td>\n      <td>True creation, form, shapes reality and dreams...</td>\n      <td>Artist’s studios, movie theaters and movie set...</td>\n      <td>Pyrites, zircons, flashbulbs, eggs, pomegranat...</td>\n      <td>NaN</td>\n      <td>9</td>\n    </tr>\n    <tr>\n      <th>10</th>\n      <td>Charchnoumis</td>\n      <td>Animal</td>\n      <td>Cancer 2nd</td>\n      <td>Mars</td>\n      <td>Binah</td>\n      <td>63</td>\n      <td>Animals, bestial thoughts and instincts, shape...</td>\n      <td>Zoos, slaughterhouses, nature preserves, fores...</td>\n      <td>Fresh animals’ blood or skin, bloodstones, fre...</td>\n      <td>Hear me, my Kin (Ruling)</td>\n      <td>10</td>\n    </tr>\n    <tr>\n      <th>11</th>\n      <td>Saphathoraél</td>\n      <td>Water</td>\n      <td>Cancer 3rd</td>\n      <td>Venus</td>\n      <td>Chesed</td>\n      <td>71</td>\n      <td>Water, liquids and their conceptual counterpar...</td>\n      <td>Oceans, lakes, ships, reservoirs, wells and oa...</td>\n      <td>Fish, the blood of drowned men, aquamarines an...</td>\n      <td>NaN</td>\n      <td>11</td>\n    </tr>\n    <tr>\n      <th>12</th>\n      <td>Phoubêl</td>\n      <td>Light and Darkness</td>\n      <td>Leo 1st</td>\n      <td>Sun</td>\n      <td>Geburah</td>\n      <td>69</td>\n      <td>Light and darkness, one requiring the other. V...</td>\n      <td>Tropical beaches, outdoors at sunrise or sunse...</td>\n      <td>Heliotropes and other tropical flowers, flash-...</td>\n      <td>Light (Compelling) or Darksight (Unveiling)</td>\n      <td>12</td>\n    </tr>\n    <tr>\n      <th>13</th>\n      <td>Kumeatêl</td>\n      <td>Hidden</td>\n      <td>Leo 2nd</td>\n      <td>Jupiter</td>\n      <td>Tiphareth</td>\n      <td>67</td>\n      <td>The ace up the sleeve, secrets, murmurs, aspec...</td>\n      <td>Secret laboratories or military bases, hidden ...</td>\n      <td>Artifacts with secrets, the number 13, walnuts...</td>\n      <td>NaN</td>\n      <td>13</td>\n    </tr>\n    <tr>\n      <th>14</th>\n      <td>Roêlêd</td>\n      <td>Protection and Warning</td>\n      <td>Leo 3rd</td>\n      <td>Mars</td>\n      <td>Netzach</td>\n      <td>70</td>\n      <td>Strong walls, thorns, antibiotics, defense, gu...</td>\n      <td>Anywhere under surveillance or an electric-eye...</td>\n      <td>Owl or raven feathers, oxhide, “M” shapes, dra...</td>\n      <td>NaN</td>\n      <td>14</td>\n    </tr>\n    <tr>\n      <th>15</th>\n      <td>Atrax</td>\n      <td>Food</td>\n      <td>Virgo 1st</td>\n      <td>Mercury</td>\n      <td>Malkuth</td>\n      <td>62</td>\n      <td>Nourishment, inner strength through sustenance...</td>\n      <td>Supermarkets, bazaars, farmland, compost heaps...</td>\n      <td>Bread, salt, woman’s hair, storax, saliva, fer...</td>\n      <td>Wondrous Fare (Patterning)</td>\n      <td>15</td>\n    </tr>\n    <tr>\n      <th>16</th>\n      <td>Ieropaêl</td>\n      <td>Earth</td>\n      <td>Virgo 2nd</td>\n      <td>Saturn</td>\n      <td>Yesod</td>\n      <td>67</td>\n      <td>Earth, soil, rock, the very concept of physica...</td>\n      <td>Mountain caves, volcanoes, upthrust crags, gra...</td>\n      <td>Quartz, talc, slate, oak, lichen, worms, narci...</td>\n      <td>Shape Stone (Ruling)</td>\n      <td>16</td>\n    </tr>\n    <tr>\n      <th>17</th>\n      <td>Buldumêch</td>\n      <td>Wealth</td>\n      <td>Virgo 3rd</td>\n      <td>Venus</td>\n      <td>Malkuth</td>\n      <td>63</td>\n      <td>Wealth, treasure, gold, finance, greed.</td>\n      <td>Banks, stock market floors, gold mines, custom...</td>\n      <td>Money, anything expensive and hoarded, jackdaw...</td>\n      <td>All that Glitters  (Knowing)</td>\n      <td>17</td>\n    </tr>\n    <tr>\n      <th>18</th>\n      <td>Naôth</td>\n      <td>Communication and Empathy</td>\n      <td>Libra 1st</td>\n      <td>Venus</td>\n      <td>Chokmah</td>\n      <td>68</td>\n      <td>Communication, language, imagery, symbolism, a...</td>\n      <td>Radio stations, printers, shared telepathic ex...</td>\n      <td>Vervain, bay leaves, “V” shapes, stringed inst...</td>\n      <td>Tongues (Knowing?)</td>\n      <td>18</td>\n    </tr>\n    <tr>\n      <th>19</th>\n      <td>Marderô</td>\n      <td>Resistance</td>\n      <td>Libra 2nd</td>\n      <td>Saturn</td>\n      <td>Binah</td>\n      <td>68</td>\n      <td>Rebellion, anger against injustice, violence f...</td>\n      <td>Revolutionary battlefields or massacres, polic...</td>\n      <td>Hammers, sickles, human blood, pepper, tear ga...</td>\n      <td>Incite (Compelling or Ruling)</td>\n      <td>19</td>\n    </tr>\n    <tr>\n      <th>20</th>\n      <td>Alath</td>\n      <td>Stasis</td>\n      <td>Libra 3rd</td>\n      <td>Mercury</td>\n      <td>Chesed</td>\n      <td>60</td>\n      <td>Satiety, comfort, rest, boredom, stagnation, d...</td>\n      <td>Old-age homes, cold deserts, still tarns, ghos...</td>\n      <td>Tortoiseshell, square and cuboid shapes, arsen...</td>\n      <td>Rest for the Wicked (Ruling)</td>\n      <td>20</td>\n    </tr>\n    <tr>\n      <th>21</th>\n      <td>Tepsisem</td>\n      <td>Beauty</td>\n      <td>Scorpio 1st</td>\n      <td>Mars</td>\n      <td>Geburah</td>\n      <td>71</td>\n      <td>Beauty and its loss, transience and impermanen...</td>\n      <td>Museums, art auction houses, badly maintained ...</td>\n      <td>Works of art, rouge, acid rain, faded photogra...</td>\n      <td>NaN</td>\n      <td>21</td>\n    </tr>\n    <tr>\n      <th>22</th>\n      <td>Nefthada</td>\n      <td>Pleasure</td>\n      <td>Scorpio 2nd</td>\n      <td>Jupiter</td>\n      <td>Tiphareth</td>\n      <td>69</td>\n      <td>Pleasure and delight, thrills both physical an...</td>\n      <td>Almost nowhere, save for perfect moments in ti...</td>\n      <td>Champagne, star sapphires, silk or satin fab- ...</td>\n      <td>Eternal Moment</td>\n      <td>22</td>\n    </tr>\n    <tr>\n      <th>23</th>\n      <td>Akton</td>\n      <td>Corruption</td>\n      <td>Scorpio 3rd</td>\n      <td>Moon</td>\n      <td>Netzach</td>\n      <td>60</td>\n      <td>Corruption, debauchery, sin, both the joys and...</td>\n      <td>Alcoholic wards, whorehouses, crack dens, cert...</td>\n      <td>Vomit, maggots, vitriol, cocaine, wormwood, ve...</td>\n      <td>Confess thy Sins (Knowing) OR Forgiveness (Shi...</td>\n      <td>23</td>\n    </tr>\n    <tr>\n      <th>24</th>\n      <td>Anatreth</td>\n      <td>Movement</td>\n      <td>Sagittarius 1st</td>\n      <td>Jupiter</td>\n      <td>Hod</td>\n      <td>61</td>\n      <td>Movement, evolution, progress, and speed (fast...</td>\n      <td>Tornadoes, airports, speedways or freeways, li...</td>\n      <td>Arrows, bullets, fulgurites, cobra venom, hawk...</td>\n      <td>Seven-League Steps (Perfecting)</td>\n      <td>24</td>\n    </tr>\n    <tr>\n      <th>25</th>\n      <td>Eneuth</td>\n      <td>Fire</td>\n      <td>Sagittarius 2nd</td>\n      <td>Mars</td>\n      <td>Yesod</td>\n      <td>63</td>\n      <td>Fire and it's metaphorical equivalents: inspir...</td>\n      <td>Bonfires, firestorms, tropical or subtropical ...</td>\n      <td>Obsidian, asbestos, sulfur, fire opals, sodium...</td>\n      <td>Fireball (Fraying)</td>\n      <td>25</td>\n    </tr>\n    <tr>\n      <th>26</th>\n      <td>Axiôphêth</td>\n      <td>Togetherness</td>\n      <td>Sagittarius 3rd</td>\n      <td>Sun</td>\n      <td>Malkuth</td>\n      <td>62</td>\n      <td>Gravity, weight, mass, forces holding things i...</td>\n      <td>Underneath tons of rock, sun-baked desert flat...</td>\n      <td>Lead chains, iron weights, ballast from a ship...</td>\n      <td>Shake off the Chains (Fraying)</td>\n      <td>26</td>\n    </tr>\n    <tr>\n      <th>27</th>\n      <td>Harpax</td>\n      <td>Plant</td>\n      <td>Capricorn 1st</td>\n      <td>Saturn</td>\n      <td>Chokmah</td>\n      <td>67</td>\n      <td>Plants, all things green and growing, both har...</td>\n      <td>Sacred groves, rainforests, algal pools, weed-...</td>\n      <td>Green jade, holly, cedar, woodwind music, aman...</td>\n      <td>Wild Growth (Perfecting)</td>\n      <td>27</td>\n    </tr>\n    <tr>\n      <th>28</th>\n      <td>Anostêr</td>\n      <td>Impossibility</td>\n      <td>Capricorn 2nd</td>\n      <td>Venus</td>\n      <td>Binah</td>\n      <td>61</td>\n      <td>That which cannot be done, cannot be known, th...</td>\n      <td>Some peculiar rings of stone in New England, a...</td>\n      <td>The noise of a cat’s passage, books never writ...</td>\n      <td>NaN</td>\n      <td>28</td>\n    </tr>\n    <tr>\n      <th>29</th>\n      <td>Alleborith</td>\n      <td>Meta</td>\n      <td>Capricorn 3rd</td>\n      <td>Mercury</td>\n      <td>Chesed</td>\n      <td>61</td>\n      <td>Magic at its purest, isolated, active magic, m...</td>\n      <td>Magical laboratories, pentacles, places of pow...</td>\n      <td>Mandrake root, orichalcum, azoth, pyramid shap...</td>\n      <td>Flows Revealed (Unveiling)</td>\n      <td>29</td>\n    </tr>\n    <tr>\n      <th>30</th>\n      <td>Hephesimereth</td>\n      <td>Void</td>\n      <td>Aquarius 1st</td>\n      <td>Saturn</td>\n      <td>Geburah</td>\n      <td>67</td>\n      <td>Nothingness, defeat, emptiness, loss.</td>\n      <td>Open abandoned pits, former cemeteries with th...</td>\n      <td>Dead batteries, dust from an abandoned house, ...</td>\n      <td>NaN</td>\n      <td>30</td>\n    </tr>\n    <tr>\n      <th>31</th>\n      <td>Isrö</td>\n      <td>Air</td>\n      <td>Aquarius 2nd</td>\n      <td>Jupiter</td>\n      <td>Tiphareth</td>\n      <td>67</td>\n      <td>Air, a breeze or a storm,  and it's metaphoric...</td>\n      <td>Windstorms, steppes, inside or atop clouds, on...</td>\n      <td>Eagle feathers, chalcedony, galbanum, white or...</td>\n      <td>NaN</td>\n      <td>31</td>\n    </tr>\n    <tr>\n      <th>32</th>\n      <td>Agchoniôn</td>\n      <td>Sound</td>\n      <td>Aquarius 3rd</td>\n      <td>Venus</td>\n      <td>Netzach</td>\n      <td>60</td>\n      <td>Noise, music, hearing, meaningless sound.</td>\n      <td>Sonar stations, opera and concert houses, wind...</td>\n      <td>Bat’s ears, dolphin blood, recording tape, sea...</td>\n      <td>NaN</td>\n      <td>32</td>\n    </tr>\n    <tr>\n      <th>33</th>\n      <td>Akhouiy</td>\n      <td>Fortune</td>\n      <td>Pisces 1st</td>\n      <td>Jupiter</td>\n      <td>Hod</td>\n      <td>60</td>\n      <td>Indolence, drift, ease, luck, dumb luck, going...</td>\n      <td>Casinos, resort hotels, some taverns, much of ...</td>\n      <td>Four-leaf clovers, rabbits’ feet, upright hors...</td>\n      <td>Fortunate Son (Ruling)</td>\n      <td>33</td>\n    </tr>\n    <tr>\n      <th>34</th>\n      <td>Phthenoth</td>\n      <td>Healing</td>\n      <td>Pisces 2nd</td>\n      <td>Moon</td>\n      <td>Yesod</td>\n      <td>69</td>\n      <td>Cleansing, restoration, and healing both physi...</td>\n      <td>Hospitals, the island of Cos, spring meadows a...</td>\n      <td>Balm, pure water, apples, watered wine, chicke...</td>\n      <td>Greater Restoration (Patterning)</td>\n      <td>34</td>\n    </tr>\n    <tr>\n      <th>35</th>\n      <td>Bianakith</td>\n      <td>Body</td>\n      <td>Pisces 3rd</td>\n      <td>Mars</td>\n      <td>Malkuth</td>\n      <td>63</td>\n      <td>The human body and mind, the template of human...</td>\n      <td>Crowded cities, human-scale statuary, portrait...</td>\n      <td>Lungwort, liverwort, elm, river clay, human bl...</td>\n      <td>Goliath (Perfecting)</td>\n      <td>35</td>\n    </tr>\n  </tbody>\n</table>\n</div>"
     },
     "execution_count": 23,
     "metadata": {},
     "output_type": "execute_result"
    }
   ],
   "source": [
    "df.index = df['Zodiacal Position'].str.split(' ').apply(\n",
    "    lambda x: (int(zodiac_order[x[0]])-1)*3 + int(x[1][0]) -1).to_list()\n",
    "df = df.sort_index()\n",
    "df['decan_position'] = df.index\n",
    "# df[\"zodiac_max\"] = 10*df.index\n",
    "# df[\"zodiac_min\"] = df[\"zodiac_max\"]-10\n",
    "df"
   ],
   "metadata": {
    "collapsed": false
   }
  },
  {
   "cell_type": "markdown",
   "source": [
    "# The Secrets"
   ],
   "metadata": {
    "collapsed": false
   }
  },
  {
   "cell_type": "code",
   "execution_count": 24,
   "outputs": [],
   "source": [
    "# Adjustable params\n",
    "time = 19640213123000 / 86400000"
   ],
   "metadata": {
    "collapsed": false
   }
  },
  {
   "cell_type": "code",
   "execution_count": 25,
   "outputs": [],
   "source": [
    "# TODO: Add params according to colab docs so this field can be hidden after the params are set\n",
    "# See https://colab.research.google.com/notebooks/forms.ipynb#scrollTo=3jKM6GfzlgpS\n",
    "\n",
    "planet_orbital_cycles = {\n",
    "    \"Moon\": 30.0,\n",
    "    \"Mercury\": 88.0,\n",
    "    \"Venus\": 224.7,\n",
    "    \"Mars\": 687.0,\n",
    "    \"Jupiter\": 4331.0,\n",
    "    \"Saturn\": 10747.0,\n",
    "    \"Sun\": 365.25\n",
    "}\n",
    "\n",
    "opposing_planets = {\n",
    "    \"Sun\":\"Moon\",\n",
    "    \"Moon\":\"Sun\",\n",
    "    \"Mercury\":None,\n",
    "    \"Venus\":\"Mars\",\n",
    "    \"Mars\":\"Venus\",\n",
    "    \"Jupiter\":\"Saturn\",\n",
    "    \"Saturn\":\"Jupiter\"\n",
    "}\n",
    "\n",
    "def get_planet_coordinates(time: int, planet: str, sun_coordinates):\n",
    "    return {\"x\": .3 * cos(time/planet_orbital_cycles[planet]) + sun_coordinates[\"x\"],\n",
    "            \"y\": .32 * cos(time/(planet_orbital_cycles[planet]+.14*pi)) + sun_coordinates[\"y\"],\n",
    "            \"z\": .1 * cos(time/(planet_orbital_cycles[planet]/182.5))+ sun_coordinates[\"z\"]}\n",
    "\n",
    "sun_coordinates = get_planet_coordinates(time, \"Sun\", {\"x\":0,\"y\":0,\"z\":0})\n",
    "sun_coordinates_future = get_planet_coordinates(time + 21_600_000, \"Sun\", {\"x\":0,\"y\":0,\"z\":0})"
   ],
   "metadata": {
    "collapsed": false
   }
  },
  {
   "cell_type": "code",
   "execution_count": 26,
   "outputs": [],
   "source": [
    "def generate_mana_level(row):\n",
    "    # Base mana level\n",
    "    mana_level = 0\n",
    "\n",
    "    # Generate planet mana value\n",
    "    mana_level = add_planet_mana(mana_level, row['Planet'])\n",
    "\n",
    "    if opposing_planets[row['Planet']]:\n",
    "        mana_level = add_planet_mana(mana_level, opposing_planets[row['Planet']])\n",
    "\n",
    "    # check zodiac\n",
    "    mana_level = add_zodiac_mana(row['decan_position'], mana_level)\n",
    "\n",
    "    return mana_level\n",
    "\n",
    "\n",
    "def add_zodiac_mana(decan_position, mana_level):\n",
    "    zodiac_degrees = atan(sun_coordinates[\"y\"] / sun_coordinates[\"x\"]) * 360 / (2 * pi)\n",
    "    zodiac_pos_tens = floor(zodiac_degrees / 10)\n",
    "    zodiac_pos_thirty = floor(zodiac_degrees / 30)\n",
    "    if zodiac_pos_tens == decan_position:\n",
    "        mana_level += 1\n",
    "    if zodiac_pos_thirty == floor(decan_position / 3):\n",
    "        mana_level += 1\n",
    "\n",
    "    opposing_decan_position = (decan_position + 18) % 36\n",
    "    if zodiac_pos_tens == opposing_decan_position:\n",
    "        mana_level -= 1\n",
    "    if zodiac_pos_thirty == floor(opposing_decan_position / 3):\n",
    "        mana_level -= 1\n",
    "    return mana_level\n",
    "\n",
    "\n",
    "def add_planet_mana(mana_level, planet):\n",
    "    coords_current = get_planet_coordinates(time, planet, sun_coordinates)\n",
    "    coords_future = get_planet_coordinates(time + 21_600, planet, sun_coordinates)\n",
    "    planet_mana = 0\n",
    "    if coords_current[\"z\"] >= 0:\n",
    "        cur_dir = get_distance(coords_current)\n",
    "        fut_dir = get_distance(coords_future)\n",
    "        planet_mana =  cur_dir - fut_dir\n",
    "        planet_mana = -1 if planet_mana > 0 else 1 if planet_mana < 0 else 0\n",
    "    print(f\"{planet} has {planet_mana}\")\n",
    "    mana_level += planet_mana\n",
    "    return mana_level\n",
    "\n",
    "\n",
    "def get_distance(coords):\n",
    "    return sqrt(coords[\"x\"] ** 2 + coords[\"y\"] ** 2 + coords[\"z\"] ** 2)"
   ],
   "metadata": {
    "collapsed": false
   }
  },
  {
   "cell_type": "markdown",
   "source": [
    "# Generate Mana Levels"
   ],
   "metadata": {
    "collapsed": false
   }
  },
  {
   "cell_type": "code",
   "execution_count": 27,
   "outputs": [
    {
     "name": "stdout",
     "output_type": "stream",
     "text": [
      "Mars has 1\n",
      "Venus has 1\n",
      "Sun has -1\n",
      "Moon has -1\n",
      "Jupiter has 0\n",
      "Saturn has 1\n",
      "Venus has 1\n",
      "Mars has 1\n",
      "Mercury has -1\n",
      "Saturn has 1\n",
      "Jupiter has 0\n",
      "Mercury has -1\n",
      "Venus has 1\n",
      "Mars has 1\n",
      "Saturn has 1\n",
      "Jupiter has 0\n",
      "Moon has -1\n",
      "Sun has -1\n",
      "Mars has 1\n",
      "Venus has 1\n",
      "Venus has 1\n",
      "Mars has 1\n",
      "Sun has -1\n",
      "Moon has -1\n",
      "Jupiter has 0\n",
      "Saturn has 1\n",
      "Mars has 1\n",
      "Venus has 1\n",
      "Mercury has -1\n",
      "Saturn has 1\n",
      "Jupiter has 0\n",
      "Venus has 1\n",
      "Mars has 1\n",
      "Venus has 1\n",
      "Mars has 1\n",
      "Saturn has 1\n",
      "Jupiter has 0\n",
      "Mercury has -1\n",
      "Mars has 1\n",
      "Venus has 1\n",
      "Jupiter has 0\n",
      "Saturn has 1\n",
      "Moon has -1\n",
      "Sun has -1\n",
      "Jupiter has 0\n",
      "Saturn has 1\n",
      "Mars has 1\n",
      "Venus has 1\n",
      "Sun has -1\n",
      "Moon has -1\n",
      "Saturn has 1\n",
      "Jupiter has 0\n",
      "Venus has 1\n",
      "Mars has 1\n",
      "Mercury has -1\n",
      "Saturn has 1\n",
      "Jupiter has 0\n",
      "Jupiter has 0\n",
      "Saturn has 1\n",
      "Venus has 1\n",
      "Mars has 1\n",
      "Jupiter has 0\n",
      "Saturn has 1\n",
      "Moon has -1\n",
      "Sun has -1\n",
      "Mars has 1\n",
      "Venus has 1\n"
     ]
    }
   ],
   "source": [
    "temp = df.apply(generate_mana_level,axis=1)\n",
    "df.insert(2, 'Mana', temp)\n",
    "df = df.sort_values(by=['Mana','Decan'],ascending=False)"
   ],
   "metadata": {
    "collapsed": false
   }
  },
  {
   "cell_type": "code",
   "execution_count": 28,
   "outputs": [
    {
     "data": {
      "text/plain": "            Decan                    Keyword  Mana Zodiacal Position   Planet  \\\n3            Sahu                      Wilds     3        Taurus 1st    Venus   \n11   Saphathoraél                      Water     2        Cancer 3rd    Venus   \n0            Ruax                       Mind     2         Aries 1st     Mars   \n14         Roêlêd     Protection and Warning     2           Leo 3rd     Mars   \n5           Ouare                 Technology     2        Taurus 3rd   Saturn   \n18          Naôth  Communication and Empathy     2         Libra 1st    Venus   \n25         Eneuth                       Fire     2   Sagittarius 2nd     Mars   \n10   Charchnoumis                     Animal     2        Cancer 2nd     Mars   \n17      Buldumêch                     Wealth     2         Virgo 3rd    Venus   \n35      Bianakith                       Body     2        Pisces 3rd     Mars   \n7          Belbel                       Pain     2        Gemini 2nd    Venus   \n28        Anostêr              Impossibility     2     Capricorn 2nd    Venus   \n32      Agchoniôn                      Sound     2      Aquarius 3rd    Venus   \n21       Tepsisem                     Beauty     1       Scorpio 1st     Mars   \n19        Marderô                 Resistance     1         Libra 2nd   Saturn   \n8         Kurtaêl                 Necromancy     1        Gemini 3rd   Saturn   \n13       Kumeatêl                     Hidden     1           Leo 2nd  Jupiter   \n4           Iudal                       Gate     1        Taurus 2nd  Mercury   \n31           Isrö                        Air     1      Aquarius 2nd  Jupiter   \n16       Ieropaêl                      Earth     1         Virgo 2nd   Saturn   \n30  Hephesimereth                       Void     1      Aquarius 1st   Saturn   \n27         Harpax                      Plant     1     Capricorn 1st   Saturn   \n2       Arôtosael        Making and Breaking     1         Aries 3rd  Jupiter   \n24       Anatreth                   Movement     1   Sagittarius 1st  Jupiter   \n33        Akhouiy                    Fortune     1        Pisces 1st  Jupiter   \n6        Sphandôr                  Knowledge    -1        Gemini 1st  Mercury   \n22       Nefthada                   Pleasure    -1       Scorpio 2nd  Jupiter   \n15          Atrax                       Food    -1         Virgo 1st  Mercury   \n29     Alleborith                       Meta    -1     Capricorn 3rd  Mercury   \n20          Alath                     Stasis    -1         Libra 3rd  Mercury   \n34      Phthenoth                    Healing    -2        Pisces 2nd     Moon   \n12        Phoubêl         Light and Darkness    -2           Leo 1st      Sun   \n9         Methiax      Illusion and Creation    -2        Cancer 1st     Moon   \n1       Barsafael           What lies behind    -2         Aries 2nd      Sun   \n26      Axiôphêth               Togetherness    -2   Sagittarius 3rd      Sun   \n23          Akton                 Corruption    -3       Scorpio 3rd     Moon   \n\n     Sephirah  Page                                          Influence  \\\n3     Geburah    70  Concepts and activities such as archery, hunti...   \n11     Chesed    71  Water, liquids and their conceptual counterpar...   \n0     Chokmah    70  Will, perception, sanity, drunkenness, hotter ...   \n14    Netzach    70  Strong walls, thorns, antibiotics, defense, gu...   \n5     Netzach    69  Constructs, machines, alloys, and vehicles. So...   \n18    Chokmah    68  Communication, language, imagery, symbolism, a...   \n25      Yesod    63  Fire and it's metaphorical equivalents: inspir...   \n10      Binah    63  Animals, bestial thoughts and instincts, shape...   \n17    Malkuth    63            Wealth, treasure, gold, finance, greed.   \n35    Malkuth    63  The human body and mind, the template of human...   \n7       Yesod    63  Pain, torment, sharpness, shadow, shock, loss,...   \n28      Binah    61  That which cannot be done, cannot be known, th...   \n32    Netzach    60          Noise, music, hearing, meaningless sound.   \n21    Geburah    71  Beauty and its loss, transience and impermanen...   \n19      Binah    68  Rebellion, anger against injustice, violence f...   \n8     Malkuth    68        Death, fear, decay and disease, the undead.   \n13  Tiphareth    67  The ace up the sleeve, secrets, murmurs, aspec...   \n4   Tiphareth    67  Boundaries, roads, portals, rivers, bridges, a...   \n31  Tiphareth    67  Air, a breeze or a storm,  and it's metaphoric...   \n16      Yesod    67  Earth, soil, rock, the very concept of physica...   \n30    Geburah    67              Nothingness, defeat, emptiness, loss.   \n27    Chokmah    67  Plants, all things green and growing, both har...   \n2      Chesed    61  The cycle of making and destroying in all its ...   \n24        Hod    61  Movement, evolution, progress, and speed (fast...   \n33        Hod    60  Indolence, drift, ease, luck, dumb luck, going...   \n6         Hod    71  The sensorium, intellect, passive knowledge, i...   \n22  Tiphareth    69  Pleasure and delight, thrills both physical an...   \n15    Malkuth    62  Nourishment, inner strength through sustenance...   \n29     Chesed    61  Magic at its purest, isolated, active magic, m...   \n20     Chesed    60  Satiety, comfort, rest, boredom, stagnation, d...   \n34      Yesod    69  Cleansing, restoration, and healing both physi...   \n12    Geburah    69  Light and darkness, one requiring the other. V...   \n9     Chokmah    68  True creation, form, shapes reality and dreams...   \n1       Binah    62  Hidden truth, subconscious mind, primal unconf...   \n26    Malkuth    62  Gravity, weight, mass, forces holding things i...   \n23    Netzach    60  Corruption, debauchery, sin, both the joys and...   \n\n                                               Places  \\\n3   Mountainsides, the walls of Mycenae and Machu ...   \n11  Oceans, lakes, ships, reservoirs, wells and oa...   \n0   Television studios or showrooms, hypnosis clin...   \n14  Anywhere under surveillance or an electric-eye...   \n5   Garages, metallurgical laboratories, inside mo...   \n18  Radio stations, printers, shared telepathic ex...   \n25  Bonfires, firestorms, tropical or subtropical ...   \n10  Zoos, slaughterhouses, nature preserves, fores...   \n17  Banks, stock market floors, gold mines, custom...   \n35  Crowded cities, human-scale statuary, portrait...   \n7   Torture chambers, death camps, deep in the rai...   \n28  Some peculiar rings of stone in New England, a...   \n32  Sonar stations, opera and concert houses, wind...   \n21  Museums, art auction houses, badly maintained ...   \n19  Revolutionary battlefields or massacres, polic...   \n8   Graveyards, terminal wards of hospitals, ruine...   \n13  Secret laboratories or military bases, hidden ...   \n4   Bridges, crossroads, doorways (especially post...   \n31  Windstorms, steppes, inside or atop clouds, on...   \n16  Mountain caves, volcanoes, upthrust crags, gra...   \n30  Open abandoned pits, former cemeteries with th...   \n27  Sacred groves, rainforests, algal pools, weed-...   \n2   Decisive battlefields, particle accelerators, ...   \n24  Tornadoes, airports, speedways or freeways, li...   \n33  Casinos, resort hotels, some taverns, much of ...   \n6   Computer rooms, hexagonal spaces, paintings or...   \n22  Almost nowhere, save for perfect moments in ti...   \n15  Supermarkets, bazaars, farmland, compost heaps...   \n29  Magical laboratories, pentacles, places of pow...   \n20  Old-age homes, cold deserts, still tarns, ghos...   \n34  Hospitals, the island of Cos, spring meadows a...   \n12  Tropical beaches, outdoors at sunrise or sunse...   \n9   Artist’s studios, movie theaters and movie set...   \n1   Deep beneath the ocean or in hidden caves, cit...   \n26  Underneath tons of rock, sun-baked desert flat...   \n23  Alcoholic wards, whorehouses, crack dens, cert...   \n\n                                            Materials  \\\n3   Basalt, sequoia wood, subsonics, arrowheads, s...   \n11  Fish, the blood of drowned men, aquamarines an...   \n0   Cathode-ray tubes, spirals, poppies, down- war...   \n14  Owl or raven feathers, oxhide, “M” shapes, dra...   \n5   Gears and clockwork, plastic, microchips, bras...   \n18  Vervain, bay leaves, “V” shapes, stringed inst...   \n25  Obsidian, asbestos, sulfur, fire opals, sodium...   \n10  Fresh animals’ blood or skin, bloodstones, fre...   \n17  Money, anything expensive and hoarded, jackdaw...   \n35  Lungwort, liverwort, elm, river clay, human bl...   \n7   Funeral crepe, surgical steel, rust, ammonia, ...   \n28  The noise of a cat’s passage, books never writ...   \n32  Bat’s ears, dolphin blood, recording tape, sea...   \n21  Works of art, rouge, acid rain, faded photogra...   \n19  Hammers, sickles, human blood, pepper, tear ga...   \n8   Rowan, cypress, myrrh, contaminated syringes, ...   \n13  Artifacts with secrets, the number 13, walnuts...   \n4   Keys, two-headed coins, juniper, alexandrites,...   \n31  Eagle feathers, chalcedony, galbanum, white or...   \n16  Quartz, talc, slate, oak, lichen, worms, narci...   \n30  Dead batteries, dust from an abandoned house, ...   \n27  Green jade, holly, cedar, woodwind music, aman...   \n2   Ram’s horn (and anything else in a Fibonacci s...   \n24  Arrows, bullets, fulgurites, cobra venom, hawk...   \n33  Four-leaf clovers, rabbits’ feet, upright hors...   \n6   Agates and cat’s eyes, musk, hexagons, fennel,...   \n22  Champagne, star sapphires, silk or satin fab- ...   \n15  Bread, salt, woman’s hair, storax, saliva, fer...   \n29  Mandrake root, orichalcum, azoth, pyramid shap...   \n20  Tortoiseshell, square and cuboid shapes, arsen...   \n34  Balm, pure water, apples, watered wine, chicke...   \n12  Heliotropes and other tropical flowers, flash-...   \n9   Pyrites, zircons, flashbulbs, eggs, pomegranat...   \n1   Ambergris, petroleum, white noise, artesian wa...   \n26  Lead chains, iron weights, ballast from a ship...   \n23  Vomit, maggots, vitriol, cocaine, wormwood, ve...   \n\n                                                Spell  decan_position  \n3                             Find the Path (Knowing)               3  \n11                                                NaN              11  \n0                                                 NaN               0  \n14                                                NaN              14  \n5                                                 NaN               5  \n18                                 Tongues (Knowing?)              18  \n25                                 Fireball (Fraying)              25  \n10                           Hear me, my Kin (Ruling)              10  \n17                       All that Glitters  (Knowing)              17  \n35                               Goliath (Perfecting)              35  \n7                                         (Shielding)               7  \n28                                                NaN              28  \n32                                                NaN              32  \n21                                                NaN              21  \n19                      Incite (Compelling or Ruling)              19  \n8                                                 NaN               8  \n13                                                NaN              13  \n4                               Teleport (Patterning)               4  \n31                                                NaN              31  \n16                               Shape Stone (Ruling)              16  \n30                                                NaN              30  \n27                           Wild Growth (Perfecting)              27  \n2                           Dust to Dust (Unraveling)               2  \n24                    Seven-League Steps (Perfecting)              24  \n33                             Fortunate Son (Ruling)              33  \n6                           Something for my research               6  \n22                                     Eternal Moment              22  \n15                         Wondrous Fare (Patterning)              15  \n29                         Flows Revealed (Unveiling)              29  \n20                       Rest for the Wicked (Ruling)              20  \n34                   Greater Restoration (Patterning)              34  \n12        Light (Compelling) or Darksight (Unveiling)              12  \n9                                                 NaN               9  \n1                                                 NaN               1  \n26                     Shake off the Chains (Fraying)              26  \n23  Confess thy Sins (Knowing) OR Forgiveness (Shi...              23  ",
      "text/html": "<div>\n<style scoped>\n    .dataframe tbody tr th:only-of-type {\n        vertical-align: middle;\n    }\n\n    .dataframe tbody tr th {\n        vertical-align: top;\n    }\n\n    .dataframe thead th {\n        text-align: right;\n    }\n</style>\n<table border=\"1\" class=\"dataframe\">\n  <thead>\n    <tr style=\"text-align: right;\">\n      <th></th>\n      <th>Decan</th>\n      <th>Keyword</th>\n      <th>Mana</th>\n      <th>Zodiacal Position</th>\n      <th>Planet</th>\n      <th>Sephirah</th>\n      <th>Page</th>\n      <th>Influence</th>\n      <th>Places</th>\n      <th>Materials</th>\n      <th>Spell</th>\n      <th>decan_position</th>\n    </tr>\n  </thead>\n  <tbody>\n    <tr>\n      <th>3</th>\n      <td>Sahu</td>\n      <td>Wilds</td>\n      <td>3</td>\n      <td>Taurus 1st</td>\n      <td>Venus</td>\n      <td>Geburah</td>\n      <td>70</td>\n      <td>Concepts and activities such as archery, hunti...</td>\n      <td>Mountainsides, the walls of Mycenae and Machu ...</td>\n      <td>Basalt, sequoia wood, subsonics, arrowheads, s...</td>\n      <td>Find the Path (Knowing)</td>\n      <td>3</td>\n    </tr>\n    <tr>\n      <th>11</th>\n      <td>Saphathoraél</td>\n      <td>Water</td>\n      <td>2</td>\n      <td>Cancer 3rd</td>\n      <td>Venus</td>\n      <td>Chesed</td>\n      <td>71</td>\n      <td>Water, liquids and their conceptual counterpar...</td>\n      <td>Oceans, lakes, ships, reservoirs, wells and oa...</td>\n      <td>Fish, the blood of drowned men, aquamarines an...</td>\n      <td>NaN</td>\n      <td>11</td>\n    </tr>\n    <tr>\n      <th>0</th>\n      <td>Ruax</td>\n      <td>Mind</td>\n      <td>2</td>\n      <td>Aries 1st</td>\n      <td>Mars</td>\n      <td>Chokmah</td>\n      <td>70</td>\n      <td>Will, perception, sanity, drunkenness, hotter ...</td>\n      <td>Television studios or showrooms, hypnosis clin...</td>\n      <td>Cathode-ray tubes, spirals, poppies, down- war...</td>\n      <td>NaN</td>\n      <td>0</td>\n    </tr>\n    <tr>\n      <th>14</th>\n      <td>Roêlêd</td>\n      <td>Protection and Warning</td>\n      <td>2</td>\n      <td>Leo 3rd</td>\n      <td>Mars</td>\n      <td>Netzach</td>\n      <td>70</td>\n      <td>Strong walls, thorns, antibiotics, defense, gu...</td>\n      <td>Anywhere under surveillance or an electric-eye...</td>\n      <td>Owl or raven feathers, oxhide, “M” shapes, dra...</td>\n      <td>NaN</td>\n      <td>14</td>\n    </tr>\n    <tr>\n      <th>5</th>\n      <td>Ouare</td>\n      <td>Technology</td>\n      <td>2</td>\n      <td>Taurus 3rd</td>\n      <td>Saturn</td>\n      <td>Netzach</td>\n      <td>69</td>\n      <td>Constructs, machines, alloys, and vehicles. So...</td>\n      <td>Garages, metallurgical laboratories, inside mo...</td>\n      <td>Gears and clockwork, plastic, microchips, bras...</td>\n      <td>NaN</td>\n      <td>5</td>\n    </tr>\n    <tr>\n      <th>18</th>\n      <td>Naôth</td>\n      <td>Communication and Empathy</td>\n      <td>2</td>\n      <td>Libra 1st</td>\n      <td>Venus</td>\n      <td>Chokmah</td>\n      <td>68</td>\n      <td>Communication, language, imagery, symbolism, a...</td>\n      <td>Radio stations, printers, shared telepathic ex...</td>\n      <td>Vervain, bay leaves, “V” shapes, stringed inst...</td>\n      <td>Tongues (Knowing?)</td>\n      <td>18</td>\n    </tr>\n    <tr>\n      <th>25</th>\n      <td>Eneuth</td>\n      <td>Fire</td>\n      <td>2</td>\n      <td>Sagittarius 2nd</td>\n      <td>Mars</td>\n      <td>Yesod</td>\n      <td>63</td>\n      <td>Fire and it's metaphorical equivalents: inspir...</td>\n      <td>Bonfires, firestorms, tropical or subtropical ...</td>\n      <td>Obsidian, asbestos, sulfur, fire opals, sodium...</td>\n      <td>Fireball (Fraying)</td>\n      <td>25</td>\n    </tr>\n    <tr>\n      <th>10</th>\n      <td>Charchnoumis</td>\n      <td>Animal</td>\n      <td>2</td>\n      <td>Cancer 2nd</td>\n      <td>Mars</td>\n      <td>Binah</td>\n      <td>63</td>\n      <td>Animals, bestial thoughts and instincts, shape...</td>\n      <td>Zoos, slaughterhouses, nature preserves, fores...</td>\n      <td>Fresh animals’ blood or skin, bloodstones, fre...</td>\n      <td>Hear me, my Kin (Ruling)</td>\n      <td>10</td>\n    </tr>\n    <tr>\n      <th>17</th>\n      <td>Buldumêch</td>\n      <td>Wealth</td>\n      <td>2</td>\n      <td>Virgo 3rd</td>\n      <td>Venus</td>\n      <td>Malkuth</td>\n      <td>63</td>\n      <td>Wealth, treasure, gold, finance, greed.</td>\n      <td>Banks, stock market floors, gold mines, custom...</td>\n      <td>Money, anything expensive and hoarded, jackdaw...</td>\n      <td>All that Glitters  (Knowing)</td>\n      <td>17</td>\n    </tr>\n    <tr>\n      <th>35</th>\n      <td>Bianakith</td>\n      <td>Body</td>\n      <td>2</td>\n      <td>Pisces 3rd</td>\n      <td>Mars</td>\n      <td>Malkuth</td>\n      <td>63</td>\n      <td>The human body and mind, the template of human...</td>\n      <td>Crowded cities, human-scale statuary, portrait...</td>\n      <td>Lungwort, liverwort, elm, river clay, human bl...</td>\n      <td>Goliath (Perfecting)</td>\n      <td>35</td>\n    </tr>\n    <tr>\n      <th>7</th>\n      <td>Belbel</td>\n      <td>Pain</td>\n      <td>2</td>\n      <td>Gemini 2nd</td>\n      <td>Venus</td>\n      <td>Yesod</td>\n      <td>63</td>\n      <td>Pain, torment, sharpness, shadow, shock, loss,...</td>\n      <td>Torture chambers, death camps, deep in the rai...</td>\n      <td>Funeral crepe, surgical steel, rust, ammonia, ...</td>\n      <td>(Shielding)</td>\n      <td>7</td>\n    </tr>\n    <tr>\n      <th>28</th>\n      <td>Anostêr</td>\n      <td>Impossibility</td>\n      <td>2</td>\n      <td>Capricorn 2nd</td>\n      <td>Venus</td>\n      <td>Binah</td>\n      <td>61</td>\n      <td>That which cannot be done, cannot be known, th...</td>\n      <td>Some peculiar rings of stone in New England, a...</td>\n      <td>The noise of a cat’s passage, books never writ...</td>\n      <td>NaN</td>\n      <td>28</td>\n    </tr>\n    <tr>\n      <th>32</th>\n      <td>Agchoniôn</td>\n      <td>Sound</td>\n      <td>2</td>\n      <td>Aquarius 3rd</td>\n      <td>Venus</td>\n      <td>Netzach</td>\n      <td>60</td>\n      <td>Noise, music, hearing, meaningless sound.</td>\n      <td>Sonar stations, opera and concert houses, wind...</td>\n      <td>Bat’s ears, dolphin blood, recording tape, sea...</td>\n      <td>NaN</td>\n      <td>32</td>\n    </tr>\n    <tr>\n      <th>21</th>\n      <td>Tepsisem</td>\n      <td>Beauty</td>\n      <td>1</td>\n      <td>Scorpio 1st</td>\n      <td>Mars</td>\n      <td>Geburah</td>\n      <td>71</td>\n      <td>Beauty and its loss, transience and impermanen...</td>\n      <td>Museums, art auction houses, badly maintained ...</td>\n      <td>Works of art, rouge, acid rain, faded photogra...</td>\n      <td>NaN</td>\n      <td>21</td>\n    </tr>\n    <tr>\n      <th>19</th>\n      <td>Marderô</td>\n      <td>Resistance</td>\n      <td>1</td>\n      <td>Libra 2nd</td>\n      <td>Saturn</td>\n      <td>Binah</td>\n      <td>68</td>\n      <td>Rebellion, anger against injustice, violence f...</td>\n      <td>Revolutionary battlefields or massacres, polic...</td>\n      <td>Hammers, sickles, human blood, pepper, tear ga...</td>\n      <td>Incite (Compelling or Ruling)</td>\n      <td>19</td>\n    </tr>\n    <tr>\n      <th>8</th>\n      <td>Kurtaêl</td>\n      <td>Necromancy</td>\n      <td>1</td>\n      <td>Gemini 3rd</td>\n      <td>Saturn</td>\n      <td>Malkuth</td>\n      <td>68</td>\n      <td>Death, fear, decay and disease, the undead.</td>\n      <td>Graveyards, terminal wards of hospitals, ruine...</td>\n      <td>Rowan, cypress, myrrh, contaminated syringes, ...</td>\n      <td>NaN</td>\n      <td>8</td>\n    </tr>\n    <tr>\n      <th>13</th>\n      <td>Kumeatêl</td>\n      <td>Hidden</td>\n      <td>1</td>\n      <td>Leo 2nd</td>\n      <td>Jupiter</td>\n      <td>Tiphareth</td>\n      <td>67</td>\n      <td>The ace up the sleeve, secrets, murmurs, aspec...</td>\n      <td>Secret laboratories or military bases, hidden ...</td>\n      <td>Artifacts with secrets, the number 13, walnuts...</td>\n      <td>NaN</td>\n      <td>13</td>\n    </tr>\n    <tr>\n      <th>4</th>\n      <td>Iudal</td>\n      <td>Gate</td>\n      <td>1</td>\n      <td>Taurus 2nd</td>\n      <td>Mercury</td>\n      <td>Tiphareth</td>\n      <td>67</td>\n      <td>Boundaries, roads, portals, rivers, bridges, a...</td>\n      <td>Bridges, crossroads, doorways (especially post...</td>\n      <td>Keys, two-headed coins, juniper, alexandrites,...</td>\n      <td>Teleport (Patterning)</td>\n      <td>4</td>\n    </tr>\n    <tr>\n      <th>31</th>\n      <td>Isrö</td>\n      <td>Air</td>\n      <td>1</td>\n      <td>Aquarius 2nd</td>\n      <td>Jupiter</td>\n      <td>Tiphareth</td>\n      <td>67</td>\n      <td>Air, a breeze or a storm,  and it's metaphoric...</td>\n      <td>Windstorms, steppes, inside or atop clouds, on...</td>\n      <td>Eagle feathers, chalcedony, galbanum, white or...</td>\n      <td>NaN</td>\n      <td>31</td>\n    </tr>\n    <tr>\n      <th>16</th>\n      <td>Ieropaêl</td>\n      <td>Earth</td>\n      <td>1</td>\n      <td>Virgo 2nd</td>\n      <td>Saturn</td>\n      <td>Yesod</td>\n      <td>67</td>\n      <td>Earth, soil, rock, the very concept of physica...</td>\n      <td>Mountain caves, volcanoes, upthrust crags, gra...</td>\n      <td>Quartz, talc, slate, oak, lichen, worms, narci...</td>\n      <td>Shape Stone (Ruling)</td>\n      <td>16</td>\n    </tr>\n    <tr>\n      <th>30</th>\n      <td>Hephesimereth</td>\n      <td>Void</td>\n      <td>1</td>\n      <td>Aquarius 1st</td>\n      <td>Saturn</td>\n      <td>Geburah</td>\n      <td>67</td>\n      <td>Nothingness, defeat, emptiness, loss.</td>\n      <td>Open abandoned pits, former cemeteries with th...</td>\n      <td>Dead batteries, dust from an abandoned house, ...</td>\n      <td>NaN</td>\n      <td>30</td>\n    </tr>\n    <tr>\n      <th>27</th>\n      <td>Harpax</td>\n      <td>Plant</td>\n      <td>1</td>\n      <td>Capricorn 1st</td>\n      <td>Saturn</td>\n      <td>Chokmah</td>\n      <td>67</td>\n      <td>Plants, all things green and growing, both har...</td>\n      <td>Sacred groves, rainforests, algal pools, weed-...</td>\n      <td>Green jade, holly, cedar, woodwind music, aman...</td>\n      <td>Wild Growth (Perfecting)</td>\n      <td>27</td>\n    </tr>\n    <tr>\n      <th>2</th>\n      <td>Arôtosael</td>\n      <td>Making and Breaking</td>\n      <td>1</td>\n      <td>Aries 3rd</td>\n      <td>Jupiter</td>\n      <td>Chesed</td>\n      <td>61</td>\n      <td>The cycle of making and destroying in all its ...</td>\n      <td>Decisive battlefields, particle accelerators, ...</td>\n      <td>Ram’s horn (and anything else in a Fibonacci s...</td>\n      <td>Dust to Dust (Unraveling)</td>\n      <td>2</td>\n    </tr>\n    <tr>\n      <th>24</th>\n      <td>Anatreth</td>\n      <td>Movement</td>\n      <td>1</td>\n      <td>Sagittarius 1st</td>\n      <td>Jupiter</td>\n      <td>Hod</td>\n      <td>61</td>\n      <td>Movement, evolution, progress, and speed (fast...</td>\n      <td>Tornadoes, airports, speedways or freeways, li...</td>\n      <td>Arrows, bullets, fulgurites, cobra venom, hawk...</td>\n      <td>Seven-League Steps (Perfecting)</td>\n      <td>24</td>\n    </tr>\n    <tr>\n      <th>33</th>\n      <td>Akhouiy</td>\n      <td>Fortune</td>\n      <td>1</td>\n      <td>Pisces 1st</td>\n      <td>Jupiter</td>\n      <td>Hod</td>\n      <td>60</td>\n      <td>Indolence, drift, ease, luck, dumb luck, going...</td>\n      <td>Casinos, resort hotels, some taverns, much of ...</td>\n      <td>Four-leaf clovers, rabbits’ feet, upright hors...</td>\n      <td>Fortunate Son (Ruling)</td>\n      <td>33</td>\n    </tr>\n    <tr>\n      <th>6</th>\n      <td>Sphandôr</td>\n      <td>Knowledge</td>\n      <td>-1</td>\n      <td>Gemini 1st</td>\n      <td>Mercury</td>\n      <td>Hod</td>\n      <td>71</td>\n      <td>The sensorium, intellect, passive knowledge, i...</td>\n      <td>Computer rooms, hexagonal spaces, paintings or...</td>\n      <td>Agates and cat’s eyes, musk, hexagons, fennel,...</td>\n      <td>Something for my research</td>\n      <td>6</td>\n    </tr>\n    <tr>\n      <th>22</th>\n      <td>Nefthada</td>\n      <td>Pleasure</td>\n      <td>-1</td>\n      <td>Scorpio 2nd</td>\n      <td>Jupiter</td>\n      <td>Tiphareth</td>\n      <td>69</td>\n      <td>Pleasure and delight, thrills both physical an...</td>\n      <td>Almost nowhere, save for perfect moments in ti...</td>\n      <td>Champagne, star sapphires, silk or satin fab- ...</td>\n      <td>Eternal Moment</td>\n      <td>22</td>\n    </tr>\n    <tr>\n      <th>15</th>\n      <td>Atrax</td>\n      <td>Food</td>\n      <td>-1</td>\n      <td>Virgo 1st</td>\n      <td>Mercury</td>\n      <td>Malkuth</td>\n      <td>62</td>\n      <td>Nourishment, inner strength through sustenance...</td>\n      <td>Supermarkets, bazaars, farmland, compost heaps...</td>\n      <td>Bread, salt, woman’s hair, storax, saliva, fer...</td>\n      <td>Wondrous Fare (Patterning)</td>\n      <td>15</td>\n    </tr>\n    <tr>\n      <th>29</th>\n      <td>Alleborith</td>\n      <td>Meta</td>\n      <td>-1</td>\n      <td>Capricorn 3rd</td>\n      <td>Mercury</td>\n      <td>Chesed</td>\n      <td>61</td>\n      <td>Magic at its purest, isolated, active magic, m...</td>\n      <td>Magical laboratories, pentacles, places of pow...</td>\n      <td>Mandrake root, orichalcum, azoth, pyramid shap...</td>\n      <td>Flows Revealed (Unveiling)</td>\n      <td>29</td>\n    </tr>\n    <tr>\n      <th>20</th>\n      <td>Alath</td>\n      <td>Stasis</td>\n      <td>-1</td>\n      <td>Libra 3rd</td>\n      <td>Mercury</td>\n      <td>Chesed</td>\n      <td>60</td>\n      <td>Satiety, comfort, rest, boredom, stagnation, d...</td>\n      <td>Old-age homes, cold deserts, still tarns, ghos...</td>\n      <td>Tortoiseshell, square and cuboid shapes, arsen...</td>\n      <td>Rest for the Wicked (Ruling)</td>\n      <td>20</td>\n    </tr>\n    <tr>\n      <th>34</th>\n      <td>Phthenoth</td>\n      <td>Healing</td>\n      <td>-2</td>\n      <td>Pisces 2nd</td>\n      <td>Moon</td>\n      <td>Yesod</td>\n      <td>69</td>\n      <td>Cleansing, restoration, and healing both physi...</td>\n      <td>Hospitals, the island of Cos, spring meadows a...</td>\n      <td>Balm, pure water, apples, watered wine, chicke...</td>\n      <td>Greater Restoration (Patterning)</td>\n      <td>34</td>\n    </tr>\n    <tr>\n      <th>12</th>\n      <td>Phoubêl</td>\n      <td>Light and Darkness</td>\n      <td>-2</td>\n      <td>Leo 1st</td>\n      <td>Sun</td>\n      <td>Geburah</td>\n      <td>69</td>\n      <td>Light and darkness, one requiring the other. V...</td>\n      <td>Tropical beaches, outdoors at sunrise or sunse...</td>\n      <td>Heliotropes and other tropical flowers, flash-...</td>\n      <td>Light (Compelling) or Darksight (Unveiling)</td>\n      <td>12</td>\n    </tr>\n    <tr>\n      <th>9</th>\n      <td>Methiax</td>\n      <td>Illusion and Creation</td>\n      <td>-2</td>\n      <td>Cancer 1st</td>\n      <td>Moon</td>\n      <td>Chokmah</td>\n      <td>68</td>\n      <td>True creation, form, shapes reality and dreams...</td>\n      <td>Artist’s studios, movie theaters and movie set...</td>\n      <td>Pyrites, zircons, flashbulbs, eggs, pomegranat...</td>\n      <td>NaN</td>\n      <td>9</td>\n    </tr>\n    <tr>\n      <th>1</th>\n      <td>Barsafael</td>\n      <td>What lies behind</td>\n      <td>-2</td>\n      <td>Aries 2nd</td>\n      <td>Sun</td>\n      <td>Binah</td>\n      <td>62</td>\n      <td>Hidden truth, subconscious mind, primal unconf...</td>\n      <td>Deep beneath the ocean or in hidden caves, cit...</td>\n      <td>Ambergris, petroleum, white noise, artesian wa...</td>\n      <td>NaN</td>\n      <td>1</td>\n    </tr>\n    <tr>\n      <th>26</th>\n      <td>Axiôphêth</td>\n      <td>Togetherness</td>\n      <td>-2</td>\n      <td>Sagittarius 3rd</td>\n      <td>Sun</td>\n      <td>Malkuth</td>\n      <td>62</td>\n      <td>Gravity, weight, mass, forces holding things i...</td>\n      <td>Underneath tons of rock, sun-baked desert flat...</td>\n      <td>Lead chains, iron weights, ballast from a ship...</td>\n      <td>Shake off the Chains (Fraying)</td>\n      <td>26</td>\n    </tr>\n    <tr>\n      <th>23</th>\n      <td>Akton</td>\n      <td>Corruption</td>\n      <td>-3</td>\n      <td>Scorpio 3rd</td>\n      <td>Moon</td>\n      <td>Netzach</td>\n      <td>60</td>\n      <td>Corruption, debauchery, sin, both the joys and...</td>\n      <td>Alcoholic wards, whorehouses, crack dens, cert...</td>\n      <td>Vomit, maggots, vitriol, cocaine, wormwood, ve...</td>\n      <td>Confess thy Sins (Knowing) OR Forgiveness (Shi...</td>\n      <td>23</td>\n    </tr>\n  </tbody>\n</table>\n</div>"
     },
     "execution_count": 28,
     "metadata": {},
     "output_type": "execute_result"
    }
   ],
   "source": [
    "df"
   ],
   "metadata": {
    "collapsed": false
   }
  },
  {
   "cell_type": "code",
   "execution_count": null,
   "outputs": [],
   "source": [
    "def test(decan_series):\n",
    "    print(decan_series)"
   ],
   "metadata": {
    "collapsed": false
   }
  },
  {
   "cell_type": "markdown",
   "source": [
    "# Output"
   ],
   "metadata": {
    "collapsed": false
   }
  }
 ],
 "metadata": {
  "kernelspec": {
   "display_name": "Python 3",
   "language": "python",
   "name": "python3"
  },
  "language_info": {
   "codemirror_mode": {
    "name": "ipython",
    "version": 2
   },
   "file_extension": ".py",
   "mimetype": "text/x-python",
   "name": "python",
   "nbconvert_exporter": "python",
   "pygments_lexer": "ipython2",
   "version": "2.7.6"
  }
 },
 "nbformat": 4,
 "nbformat_minor": 0
}
